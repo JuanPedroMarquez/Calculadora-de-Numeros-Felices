{
 "cells": [
  {
   "cell_type": "markdown",
   "metadata": {},
   "source": [
    "# Calculadora de números felices!"
   ]
  },
  {
   "cell_type": "markdown",
   "metadata": {},
   "source": [
    "Ejemplo:\n",
    "\n",
    "número = 13 <br>\n",
    "13 -> 1 y 3 <br>\n",
    "1^2 = 1<br>\n",
    "3^2 = 9<br>\n",
    "1 + 9 = 10 -> 1 y 0<br>\n",
    "1^2 = 1<br>\n",
    "0^2 = 0<br>\n",
    "1 + 0 = 1<br>"
   ]
  },
  {
   "cell_type": "markdown",
   "metadata": {},
   "source": [
    "Ejemplos para probar:\n",
    "- 23\n",
    "- 133\n",
    "- 139\n",
    "- 139139139139139139139139139139\n",
    "- ...\n",
    "\n",
    "¿Cuántos encontrarás?"
   ]
  },
  {
   "cell_type": "code",
   "execution_count": null,
   "metadata": {},
   "outputs": [],
   "source": [
    "import numpy as np\n",
    "\n",
    "def es_feliz(n):\n",
    "    \"\"\"\n",
    "    Función que determina si un número es feliz o no. Un número es feliz si la suma de los cuadrados de sus dígitos es igual a 1.\n",
    "    Si por el contrario, la suma de los cuadrados de sus dígitos no es igual a 1, se repite el proceso de nuevo. Si nunca alcanza 1 y entra en un bucle, se\n",
    "    dice que el número no es feliz. Este proceso converge a 1 o a un bucle muy rápido, por lo que solamente pondremos que el código se ejecute hasta 50\n",
    "    iteraciones.\n",
    "\n",
    "    Parámetros:\n",
    "    n: int -> Número introducido por el usuario a verificar si es feliz o no.\n",
    "\n",
    "    Return:\n",
    "    Si el número es feliz, se imprime un mensaje diciendo que el número lo es y el número de iteraciones necesarias para llegar a 1.\n",
    "    Si el número no es feliz, se imprime un mensaje diciendo que el número no lo es.\n",
    "    \"\"\"\n",
    "\n",
    "    numero = str(n)\n",
    "    digitos = []\n",
    "    digitos_2 = []\n",
    "    i = 0\n",
    "\n",
    "    for elem in numero:\n",
    "        digitos.append(elem)\n",
    "\n",
    "    for num in digitos:\n",
    "        cifra = int(num)\n",
    "        digitos_2.append(cifra**2)\n",
    "\n",
    "    suma = np.sum(digitos_2)\n",
    "\n",
    "    while i < 50:\n",
    "        if suma != 1:\n",
    "            i += 1\n",
    "            n = suma\n",
    "            numero = str(n)\n",
    "\n",
    "            digitos = []\n",
    "            digitos_2 = []\n",
    "\n",
    "            for elem in numero:\n",
    "                digitos.append(elem)\n",
    "\n",
    "            for num in digitos:\n",
    "                cifra = int(num)\n",
    "                digitos_2.append(cifra**2)\n",
    "\n",
    "            suma = np.sum(digitos_2)\n",
    "        else:\n",
    "            print(f\"El número es feliz, y necesitas {i} iteraciones para llegar a 1\")\n",
    "            break\n",
    "    else:\n",
    "        print(\"El número no es feliz\")\n",
    "\n",
    "es_feliz(input())"
   ]
  }
 ],
 "metadata": {
  "kernelspec": {
   "display_name": "Python 3",
   "language": "python",
   "name": "python3"
  },
  "language_info": {
   "codemirror_mode": {
    "name": "ipython",
    "version": 3
   },
   "file_extension": ".py",
   "mimetype": "text/x-python",
   "name": "python",
   "nbconvert_exporter": "python",
   "pygments_lexer": "ipython3",
   "version": "3.10.11"
  }
 },
 "nbformat": 4,
 "nbformat_minor": 2
}
